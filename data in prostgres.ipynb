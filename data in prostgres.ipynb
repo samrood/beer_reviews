{
 "cells": [
  {
   "cell_type": "markdown",
   "metadata": {},
   "source": [
    "## Data Collecting and Cleaning\n",
    "The purpose of this notebook is:\n",
    "- to collect beer reviews data from kaggle\n",
    "- do an inital clean of the data \n",
    "- save the newly cleaned data in a database in SQL on my AWS to access in future notebooks"
   ]
  },
  {
   "cell_type": "markdown",
   "metadata": {},
   "source": [
    "***\n",
    "### Check that AWS is set up properly:\n",
    "1. open aws terminal:  \n",
    "    - ` ssh ubuntu@myaws`  \n",
    "    \n",
    "    \n",
    "2. type following comands:  \n",
    "   -  `sudo su - postgres`  \n",
    "   -  `nano /etc/postgresql/10/main/pg_hba.conf`  \n",
    "   \n",
    "   \n",
    "3. search for \"IPv4 local connections\"\n",
    "    - control + W to search\n",
    "  \n",
    "  \n",
    "4. second line with your IP should match AWS instance \n",
    "    - go to AWS instance\n",
    "    - go to my inbound rules \n",
    "    - PostgreSQL -> MY IP -> IP that need to be in nano file \n",
    "    \n",
    "    \n",
    "5. change file if needed\n",
    "    - control + X to exit\n",
    "    - click Y to save \n",
    "    - press enter \n",
    "    \n",
    "6. exit the user from being `postgre`  \n",
    "    - just type \"exit\"\n",
    "    \n",
    "    \n",
    "7. We have updated the config files, but now we need to get postgreSQL to restart for the changes to take effect. In the terminal type\n",
    "     - `sudo service postgresql restart`"
   ]
  },
  {
   "cell_type": "markdown",
   "metadata": {},
   "source": [
    "*** \n",
    "### Getting dataset from Kaggle onto AWS:\n",
    "1. On local computer:\n",
    "    - have kaggle API installed \n",
    "    - type this to download zip onto local home:  \n",
    "        `~/.local/bin/kaggle datasets download -d rdoume/beerreviews`\n",
    "\n",
    "    \n",
    "2. Copy the zip to remote AWS machine \n",
    "    - make sure you are where the file is\n",
    "    - type this to make the copy over:  \n",
    "        `scp beerreviews.zip ubuntu@myaws:/home/ubuntu`\n",
    "\n",
    "    \n",
    "    \n",
    "3. in AWS unzip the file and move it:  \n",
    "    - `sudo apt-get install unzip`  \n",
    "    - `mkdir beerdata`  \n",
    "    - `unzip beerreviews.zip -d beerdata`\n",
    "    - `rm beerreviews.zip` "
   ]
  },
  {
   "cell_type": "markdown",
   "metadata": {},
   "source": [
    "***\n",
    "### Create datebase for beer reviews\n",
    "\n",
    "In `psql` on AWS terminal\n",
    "\n",
    "\n",
    "``` sql\n",
    "\n",
    "ubuntu= CREATE DATABASE beerdata;\n",
    "ubuntu= \\connect beerdata\n",
    "\n",
    "```"
   ]
  },
  {
   "cell_type": "markdown",
   "metadata": {},
   "source": [
    "***\n",
    "\n",
    "### Importing Libaries:\n",
    "Need to import the libaries to be used in this notebook"
   ]
  },
  {
   "cell_type": "code",
   "execution_count": 1,
   "metadata": {},
   "outputs": [],
   "source": [
    "## Get pandas and postgres to work together\n",
    "import pandas as pd\n",
    "import psycopg2 as pg\n",
    "import pandas.io.sql as pd_sql"
   ]
  },
  {
   "cell_type": "markdown",
   "metadata": {},
   "source": [
    "***\n",
    "### Connecting to AWS\n",
    "We set up the database on AWS above. To connect, need the public IP address of AWS instance."
   ]
  },
  {
   "cell_type": "code",
   "execution_count": 2,
   "metadata": {},
   "outputs": [],
   "source": [
    "# Postgres info to connect\n",
    "\n",
    "connection_args = {\n",
    "    'host': '52.52.34.207',  # You will need to put the PUBLIC IP address of your AWS instance here (might have changed might have no)\n",
    "    'user': 'ubuntu',        # your username on AWS is 'ubuntu'\n",
    "    'dbname': 'beerdata',    # DB that we are connecting to\n",
    "    'port': 5432             # port we opened on AWS\n",
    "}\n",
    "\n",
    "connection = pg.connect(**connection_args)"
   ]
  },
  {
   "cell_type": "code",
   "execution_count": 3,
   "metadata": {},
   "outputs": [],
   "source": [
    "cursor = connection.cursor()"
   ]
  },
  {
   "cell_type": "code",
   "execution_count": 7,
   "metadata": {},
   "outputs": [],
   "source": [
    "query_build_table = \"\"\"\n",
    "        CREATE TABLE IF NOT EXISTS beer_reviews (\n",
    "        brewery_id double precision DEFAULT NULL,\n",
    "        brewery_name text DEFAULT NULL,\n",
    "        review_time double precision DEFAULT NULL,\n",
    "        review_overall double precision DEFAULT NULL,\n",
    "        review_aroma double precision DEFAULT NULL,\n",
    "        review_appearance double precision DEFAULT NULL,\n",
    "        review_profilename text DEFAULT NULL, \n",
    "        beer_style text DEFAULT NULL,\n",
    "        review_palate double precision DEFAULT NULL,\n",
    "        review_taste double precision DEFAULT NULL,\n",
    "        beer_name text DEFAULT NULL,\n",
    "        beer_abv double precision DEFAULT NULL,\n",
    "        beer_beerid double precision DEFAULT NULL\n",
    "    );\n",
    "\"\"\""
   ]
  },
  {
   "cell_type": "code",
   "execution_count": 8,
   "metadata": {},
   "outputs": [],
   "source": [
    "cursor.execute(query_build_table)"
   ]
  },
  {
   "cell_type": "code",
   "execution_count": 9,
   "metadata": {},
   "outputs": [],
   "source": [
    "cursor.execute('commit;')"
   ]
  },
  {
   "cell_type": "code",
   "execution_count": 10,
   "metadata": {},
   "outputs": [],
   "source": [
    "cursor.execute('BEGIN;')"
   ]
  },
  {
   "cell_type": "code",
   "execution_count": 11,
   "metadata": {},
   "outputs": [],
   "source": [
    "query_copy = \"COPY beer_reviews FROM '/home/ubuntu/beerdata/beer_reviews.csv' DELIMITER ',' CSV HEADER;\""
   ]
  },
  {
   "cell_type": "code",
   "execution_count": 12,
   "metadata": {},
   "outputs": [],
   "source": [
    "cursor.execute(query_copy)"
   ]
  },
  {
   "cell_type": "code",
   "execution_count": 13,
   "metadata": {},
   "outputs": [],
   "source": [
    "cursor.execute('commit;')"
   ]
  },
  {
   "cell_type": "code",
   "execution_count": 14,
   "metadata": {},
   "outputs": [],
   "source": [
    "query = \"SELECT * FROM beer_reviews;\"\n",
    "\n",
    "beer_reviews_df = pd_sql.read_sql(query, connection)"
   ]
  },
  {
   "cell_type": "markdown",
   "metadata": {},
   "source": [
    "***\n",
    "### Clean data using pandas:\n",
    "- read in csv from AWS \n",
    "- clean data \n",
    "- save as new cleaned data file "
   ]
  },
  {
   "cell_type": "code",
   "execution_count": 15,
   "metadata": {},
   "outputs": [
    {
     "name": "stdout",
     "output_type": "stream",
     "text": [
      "<class 'pandas.core.frame.DataFrame'>\n",
      "RangeIndex: 1586614 entries, 0 to 1586613\n",
      "Data columns (total 13 columns):\n",
      "brewery_id            1586614 non-null float64\n",
      "brewery_name          1586614 non-null object\n",
      "review_time           1586614 non-null float64\n",
      "review_overall        1586614 non-null float64\n",
      "review_aroma          1586614 non-null float64\n",
      "review_appearance     1586614 non-null float64\n",
      "review_profilename    1586266 non-null object\n",
      "beer_style            1586614 non-null object\n",
      "review_palate         1586614 non-null float64\n",
      "review_taste          1586614 non-null float64\n",
      "beer_name             1586614 non-null object\n",
      "bee_abv               1518829 non-null float64\n",
      "beer_beerid           1586614 non-null float64\n",
      "dtypes: float64(9), object(4)\n",
      "memory usage: 157.4+ MB\n"
     ]
    }
   ],
   "source": [
    "beer_reviews_df.info()"
   ]
  },
  {
   "cell_type": "code",
   "execution_count": 16,
   "metadata": {},
   "outputs": [
    {
     "data": {
      "text/html": [
       "<div>\n",
       "<style scoped>\n",
       "    .dataframe tbody tr th:only-of-type {\n",
       "        vertical-align: middle;\n",
       "    }\n",
       "\n",
       "    .dataframe tbody tr th {\n",
       "        vertical-align: top;\n",
       "    }\n",
       "\n",
       "    .dataframe thead th {\n",
       "        text-align: right;\n",
       "    }\n",
       "</style>\n",
       "<table border=\"1\" class=\"dataframe\">\n",
       "  <thead>\n",
       "    <tr style=\"text-align: right;\">\n",
       "      <th></th>\n",
       "      <th>brewery_id</th>\n",
       "      <th>review_time</th>\n",
       "      <th>review_overall</th>\n",
       "      <th>review_aroma</th>\n",
       "      <th>review_appearance</th>\n",
       "      <th>review_palate</th>\n",
       "      <th>review_taste</th>\n",
       "      <th>bee_abv</th>\n",
       "      <th>beer_beerid</th>\n",
       "    </tr>\n",
       "  </thead>\n",
       "  <tbody>\n",
       "    <tr>\n",
       "      <th>count</th>\n",
       "      <td>1.586614e+06</td>\n",
       "      <td>1.586614e+06</td>\n",
       "      <td>1.586614e+06</td>\n",
       "      <td>1.586614e+06</td>\n",
       "      <td>1.586614e+06</td>\n",
       "      <td>1.586614e+06</td>\n",
       "      <td>1.586614e+06</td>\n",
       "      <td>1.518829e+06</td>\n",
       "      <td>1.586614e+06</td>\n",
       "    </tr>\n",
       "    <tr>\n",
       "      <th>mean</th>\n",
       "      <td>3.130099e+03</td>\n",
       "      <td>1.224089e+09</td>\n",
       "      <td>3.815581e+00</td>\n",
       "      <td>3.735636e+00</td>\n",
       "      <td>3.841642e+00</td>\n",
       "      <td>3.743701e+00</td>\n",
       "      <td>3.792860e+00</td>\n",
       "      <td>7.042387e+00</td>\n",
       "      <td>2.171279e+04</td>\n",
       "    </tr>\n",
       "    <tr>\n",
       "      <th>std</th>\n",
       "      <td>5.578104e+03</td>\n",
       "      <td>7.654427e+07</td>\n",
       "      <td>7.206219e-01</td>\n",
       "      <td>6.976167e-01</td>\n",
       "      <td>6.160928e-01</td>\n",
       "      <td>6.822184e-01</td>\n",
       "      <td>7.319696e-01</td>\n",
       "      <td>2.322526e+00</td>\n",
       "      <td>2.181834e+04</td>\n",
       "    </tr>\n",
       "    <tr>\n",
       "      <th>min</th>\n",
       "      <td>1.000000e+00</td>\n",
       "      <td>8.406720e+08</td>\n",
       "      <td>0.000000e+00</td>\n",
       "      <td>1.000000e+00</td>\n",
       "      <td>0.000000e+00</td>\n",
       "      <td>1.000000e+00</td>\n",
       "      <td>1.000000e+00</td>\n",
       "      <td>1.000000e-02</td>\n",
       "      <td>3.000000e+00</td>\n",
       "    </tr>\n",
       "    <tr>\n",
       "      <th>25%</th>\n",
       "      <td>1.430000e+02</td>\n",
       "      <td>1.173224e+09</td>\n",
       "      <td>3.500000e+00</td>\n",
       "      <td>3.500000e+00</td>\n",
       "      <td>3.500000e+00</td>\n",
       "      <td>3.500000e+00</td>\n",
       "      <td>3.500000e+00</td>\n",
       "      <td>5.200000e+00</td>\n",
       "      <td>1.717000e+03</td>\n",
       "    </tr>\n",
       "    <tr>\n",
       "      <th>50%</th>\n",
       "      <td>4.290000e+02</td>\n",
       "      <td>1.239203e+09</td>\n",
       "      <td>4.000000e+00</td>\n",
       "      <td>4.000000e+00</td>\n",
       "      <td>4.000000e+00</td>\n",
       "      <td>4.000000e+00</td>\n",
       "      <td>4.000000e+00</td>\n",
       "      <td>6.500000e+00</td>\n",
       "      <td>1.390600e+04</td>\n",
       "    </tr>\n",
       "    <tr>\n",
       "      <th>75%</th>\n",
       "      <td>2.372000e+03</td>\n",
       "      <td>1.288568e+09</td>\n",
       "      <td>4.500000e+00</td>\n",
       "      <td>4.000000e+00</td>\n",
       "      <td>4.000000e+00</td>\n",
       "      <td>4.000000e+00</td>\n",
       "      <td>4.500000e+00</td>\n",
       "      <td>8.500000e+00</td>\n",
       "      <td>3.944100e+04</td>\n",
       "    </tr>\n",
       "    <tr>\n",
       "      <th>max</th>\n",
       "      <td>2.800300e+04</td>\n",
       "      <td>1.326285e+09</td>\n",
       "      <td>5.000000e+00</td>\n",
       "      <td>5.000000e+00</td>\n",
       "      <td>5.000000e+00</td>\n",
       "      <td>5.000000e+00</td>\n",
       "      <td>5.000000e+00</td>\n",
       "      <td>5.770000e+01</td>\n",
       "      <td>7.731700e+04</td>\n",
       "    </tr>\n",
       "  </tbody>\n",
       "</table>\n",
       "</div>"
      ],
      "text/plain": [
       "         brewery_id   review_time  review_overall  review_aroma  \\\n",
       "count  1.586614e+06  1.586614e+06    1.586614e+06  1.586614e+06   \n",
       "mean   3.130099e+03  1.224089e+09    3.815581e+00  3.735636e+00   \n",
       "std    5.578104e+03  7.654427e+07    7.206219e-01  6.976167e-01   \n",
       "min    1.000000e+00  8.406720e+08    0.000000e+00  1.000000e+00   \n",
       "25%    1.430000e+02  1.173224e+09    3.500000e+00  3.500000e+00   \n",
       "50%    4.290000e+02  1.239203e+09    4.000000e+00  4.000000e+00   \n",
       "75%    2.372000e+03  1.288568e+09    4.500000e+00  4.000000e+00   \n",
       "max    2.800300e+04  1.326285e+09    5.000000e+00  5.000000e+00   \n",
       "\n",
       "       review_appearance  review_palate  review_taste       bee_abv  \\\n",
       "count       1.586614e+06   1.586614e+06  1.586614e+06  1.518829e+06   \n",
       "mean        3.841642e+00   3.743701e+00  3.792860e+00  7.042387e+00   \n",
       "std         6.160928e-01   6.822184e-01  7.319696e-01  2.322526e+00   \n",
       "min         0.000000e+00   1.000000e+00  1.000000e+00  1.000000e-02   \n",
       "25%         3.500000e+00   3.500000e+00  3.500000e+00  5.200000e+00   \n",
       "50%         4.000000e+00   4.000000e+00  4.000000e+00  6.500000e+00   \n",
       "75%         4.000000e+00   4.000000e+00  4.500000e+00  8.500000e+00   \n",
       "max         5.000000e+00   5.000000e+00  5.000000e+00  5.770000e+01   \n",
       "\n",
       "        beer_beerid  \n",
       "count  1.586614e+06  \n",
       "mean   2.171279e+04  \n",
       "std    2.181834e+04  \n",
       "min    3.000000e+00  \n",
       "25%    1.717000e+03  \n",
       "50%    1.390600e+04  \n",
       "75%    3.944100e+04  \n",
       "max    7.731700e+04  "
      ]
     },
     "execution_count": 16,
     "metadata": {},
     "output_type": "execute_result"
    }
   ],
   "source": [
    "beer_reviews_df.describe()"
   ]
  },
  {
   "cell_type": "code",
   "execution_count": 18,
   "metadata": {},
   "outputs": [],
   "source": [
    "# beer_abv has many null values and is not needed for a feature \n",
    "# remove column before dropna to prevent from dropping excess rows \n",
    "beer_reviews_df = beer_reviews_df.drop(columns = ['beer_abv'])"
   ]
  },
  {
   "cell_type": "code",
   "execution_count": 19,
   "metadata": {},
   "outputs": [
    {
     "name": "stdout",
     "output_type": "stream",
     "text": [
      "['Altbier', 'American Adjunct Lager', 'American Amber / Red Ale', 'American Amber / Red Lager', 'American Barleywine', 'American Black Ale', 'American Blonde Ale', 'American Brown Ale', 'American Dark Wheat Ale', 'American Double / Imperial IPA', 'American Double / Imperial Pilsner', 'American Double / Imperial Stout', 'American IPA', 'American Malt Liquor', 'American Pale Ale (APA)', 'American Pale Lager', 'American Pale Wheat Ale', 'American Porter', 'American Stout', 'American Strong Ale', 'American Wild Ale', 'Baltic Porter', 'Belgian Dark Ale', 'Belgian IPA', 'Belgian Pale Ale', 'Belgian Strong Dark Ale', 'Belgian Strong Pale Ale', 'Berliner Weissbier', 'Bière de Champagne / Bière Brut', 'Bière de Garde', 'Black & Tan', 'Bock', 'Braggot', 'California Common / Steam Beer', 'Chile Beer', 'Cream Ale', 'Czech Pilsener', 'Doppelbock', 'Dortmunder / Export Lager', 'Dubbel', 'Dunkelweizen', 'Eisbock', 'English Barleywine', 'English Bitter', 'English Brown Ale', 'English Dark Mild Ale', 'English India Pale Ale (IPA)', 'English Pale Ale', 'English Pale Mild Ale', 'English Porter', 'English Stout', 'English Strong Ale', 'Euro Dark Lager', 'Euro Pale Lager', 'Euro Strong Lager', 'Extra Special / Strong Bitter (ESB)', 'Faro', 'Flanders Oud Bruin', 'Flanders Red Ale', 'Foreign / Export Stout', 'Fruit / Vegetable Beer', 'German Pilsener', 'Gose', 'Gueuze', 'Happoshu', 'Hefeweizen', 'Herbed / Spiced Beer', 'Irish Dry Stout', 'Irish Red Ale', 'Japanese Rice Lager', 'Keller Bier / Zwickel Bier', 'Kristalweizen', 'Kvass', 'Kölsch', 'Lambic - Fruit', 'Lambic - Unblended', 'Light Lager', 'Low Alcohol Beer', 'Maibock / Helles Bock', 'Milk / Sweet Stout', 'Munich Dunkel Lager', 'Munich Helles Lager', 'Märzen / Oktoberfest', 'Oatmeal Stout', 'Old Ale', 'Pumpkin Ale', 'Quadrupel (Quad)', 'Rauchbier', 'Roggenbier', 'Russian Imperial Stout', 'Rye Beer', 'Sahti', 'Saison / Farmhouse Ale', 'Schwarzbier', 'Scotch Ale / Wee Heavy', 'Scottish Ale', 'Scottish Gruit / Ancient Herbed Ale', 'Smoked Beer', 'Tripel', 'Vienna Lager', 'Weizenbock', 'Wheatwine', 'Winter Warmer', 'Witbier']\n"
     ]
    }
   ],
   "source": [
    "# check that some types aren't different by factors other than their name\n",
    "# could I combine similar ones? i.e. American Amber having 2 types -> turn into one \n",
    "beer_types = beer_reviews_df.beer_style.unique()\n",
    "print(sorted(beer_types))"
   ]
  },
  {
   "cell_type": "markdown",
   "metadata": {},
   "source": [
    "Since there are so many beer types that are very similar to each other, here we are going to group types together to simplify the classification. Doing some reseach this is the grouping I have come up with:\n",
    "\n",
    "Note that not all of the origional types fit into one of thse groups so will keep their origional name. These are adressed in the following code block. "
   ]
  },
  {
   "cell_type": "code",
   "execution_count": 20,
   "metadata": {},
   "outputs": [
    {
     "name": "stderr",
     "output_type": "stream",
     "text": [
      "/Users/sammy/miniconda3/envs/metis/lib/python3.7/site-packages/pandas/core/strings.py:1843: UserWarning: This pattern has match groups. To actually get the groups, use str.extract.\n",
      "  return func(self, *args, **kwargs)\n"
     ]
    }
   ],
   "source": [
    "Belgian_Style = ['Dubbel', 'Quadrupel (Quad)','Tripel','Saison / Farmhouse Ale']\n",
    "for i in Belgian_Style:\n",
    "    beer_reviews_df.loc[beer_reviews_df['beer_style'].str.contains(i), 'beer_type'] = 'Belgian Style'\n",
    "\n",
    "Bock = ['Bock', 'Doppelbock','Eisbock','Maibock / Helles Bock','Weizenbock']\n",
    "for i in Bock:\n",
    "    beer_reviews_df.loc[beer_reviews_df['beer_style'].str.contains(i), 'beer_type'] = 'Bock'\n",
    "\n",
    "Brown_Ale = ['American Brown Ale', 'English Brown Ale', 'English Dark Mild Ale','Altbier']\n",
    "for i in Brown_Ale:\n",
    "    beer_reviews_df.loc[beer_reviews_df['beer_style'].str.contains(i), 'beer_type'] = 'Brown Ale'\n",
    "\n",
    "Dark_Ale = ['Belgian Dark Ale','Belgian Strong Dark Ale']\n",
    "for i in Dark_Ale:\n",
    "    beer_reviews_df.loc[beer_reviews_df['beer_style'].str.contains(i), 'beer_type'] = 'Dark Ale'\n",
    "\n",
    "Dark_Lager = ['Euro Dark Lager', 'Munich Dunkel Lager','American Amber / Red Lager', 'Schwarzbier',\n",
    "              'Märzen / Oktoberfest','Vienna Lager', 'Euro Dark Lager','Munich Dunkel Lager']\n",
    "for i in Dark_Lager:\n",
    "    beer_reviews_df.loc[beer_reviews_df['beer_style'].str.contains(i), 'beer_type'] = 'Dark Lager'\n",
    "\n",
    "Hybrid = ['California Common / Steam Beer', 'Flanders Red Ale', 'Irish Red Ale', 'Bière de Garde','Cream Ale'] \n",
    "for i in Hybrid:\n",
    "    beer_reviews_df.loc[beer_reviews_df['beer_style'].str.contains(i), 'beer_type'] = 'Hybrid'\n",
    "\n",
    "IPA = ['American IPA', 'Belgian IPA','American Double / Imperial IPA','English India Pale Ale (IPA)']    \n",
    "for i in IPA:\n",
    "    beer_reviews_df.loc[beer_reviews_df['beer_style'].str.contains(i), 'beer_type'] = 'IPA'\n",
    "\n",
    "Pale_Ale = ['Belgian Pale Ale','American Pale Wheat Ale','American Pale Ale (APA)','English Pale Ale',\n",
    "            'Belgian Strong Pale Ale','American Blonde Ale','Extra Special / Strong Bitter (ESB)','English Bitter']\n",
    "for i in Pale_Ale:\n",
    "    beer_reviews_df.loc[beer_reviews_df['beer_style'].str.contains(i), 'beer_type'] = 'Pale Ale'\n",
    "\n",
    "Pilsner = ['Czech Pilsener', 'American Double / Imperial Pilsner','German Pilsener']   \n",
    "for i in Pilsner:\n",
    "    beer_reviews_df.loc[beer_reviews_df['beer_style'].str.contains(i), 'beer_type'] = 'Pilsner'\n",
    "\n",
    "Pale_Lager =['American Adjunct Lager','Euro Pale Lager','American Pale Lager','Munich Helles Lager',\n",
    "             'Dortmunder / Export Lager','Light Lager','English Pale Mild Ale']\n",
    "for i in Pale_Lager:\n",
    "    beer_reviews_df.loc[beer_reviews_df['beer_style'].str.contains(i), 'beer_type'] = 'Pale Lager'\n",
    "\n",
    "Porter = ['American Porter', 'Baltic Porter']\n",
    "for i in Porter:\n",
    "    beer_reviews_df.loc[beer_reviews_df['beer_style'].str.contains(i), 'beer_type'] = 'Porter'\n",
    "\n",
    "Rye_Beer = ['Roggenbier','Rye Beer']\n",
    "for i in Rye_Beer:\n",
    "    beer_reviews_df.loc[beer_reviews_df['beer_style'].str.contains(i), 'beer_type'] = 'Rye Beer'\n",
    "\n",
    "Smoked_Beer = ['Rauchbier', 'Smoked Beer']\n",
    "for i in Smoked_Beer:\n",
    "    beer_reviews_df.loc[beer_reviews_df['beer_style'].str.contains(i), 'beer_type'] = 'Smoked Beer'\n",
    "    \n",
    "Scottish_Style_Ale = ['Scotch Ale / Wee Heavy', 'Scottish Ale','Scottish Gruit / Ancient Herbed Ale']\n",
    "for i in Scottish_Style_Ale:\n",
    "    beer_reviews_df.loc[beer_reviews_df['beer_style'].str.contains(i), 'beer_type'] = 'Scottish Style Ale'\n",
    "\n",
    "Stout = ['American Stout','American Double / Imperial Stout','English Stout','Foreign / Export Stout',\n",
    "         'Irish Dry Stout','Milk / Sweet Stout','Oatmeal Stout', 'Russian Imperial Stout']\n",
    "for i in Stout:\n",
    "    beer_reviews_df.loc[beer_reviews_df['beer_style'].str.contains(i), 'beer_type'] = 'Stout'\n",
    "\n",
    "Strong_Ale = ['American Strong Ale', 'English Strong Ale','American Barleywine','English Barleywine','Old Ale',\n",
    "              'American Amber / Red Ale']\n",
    "for i in Strong_Ale:\n",
    "    beer_reviews_df.loc[beer_reviews_df['beer_style'].str.contains(i), 'beer_type'] = 'Strong Ale'\n",
    "\n",
    "Wheat_Beer = ['Hefeweizen', 'Kristalweizen', 'Witbier','Dunkelweizen', 'American Dark Wheat Ale']\n",
    "for i in Wheat_Beer:\n",
    "    beer_reviews_df.loc[beer_reviews_df['beer_style'].str.contains(i), 'beer_type'] = 'Wheat Beer'\n",
    "    \n",
    "Wild_Sour = ['Berliner Weissbier', 'Gose', 'Lambic - Fruit', 'Lambic - Unblended', 'Flanders Oud Bruin', \n",
    "             'American Wild Ale','Gueuze', 'Faro']   \n",
    "for i in Wild_Sour:\n",
    "    beer_reviews_df.loc[beer_reviews_df['beer_style'].str.contains(i), 'beer_type'] = 'Wild/Sour'   "
   ]
  },
  {
   "cell_type": "code",
   "execution_count": 21,
   "metadata": {},
   "outputs": [],
   "source": [
    "beer_reviews_df['beer_type'] = beer_reviews_df['beer_type'].fillna(beer_reviews_df['beer_style'])"
   ]
  },
  {
   "cell_type": "code",
   "execution_count": 22,
   "metadata": {},
   "outputs": [],
   "source": [
    "beer_reviews_df = beer_reviews_df.dropna()"
   ]
  },
  {
   "cell_type": "code",
   "execution_count": 23,
   "metadata": {},
   "outputs": [
    {
     "name": "stdout",
     "output_type": "stream",
     "text": [
      "<class 'pandas.core.frame.DataFrame'>\n",
      "Int64Index: 1586266 entries, 0 to 1586613\n",
      "Data columns (total 13 columns):\n",
      "brewery_id            1586266 non-null float64\n",
      "brewery_name          1586266 non-null object\n",
      "review_time           1586266 non-null float64\n",
      "review_overall        1586266 non-null float64\n",
      "review_aroma          1586266 non-null float64\n",
      "review_appearance     1586266 non-null float64\n",
      "review_profilename    1586266 non-null object\n",
      "beer_style            1586266 non-null object\n",
      "review_palate         1586266 non-null float64\n",
      "review_taste          1586266 non-null float64\n",
      "beer_name             1586266 non-null object\n",
      "beer_beerid           1586266 non-null float64\n",
      "beer_type             1586266 non-null object\n",
      "dtypes: float64(8), object(5)\n",
      "memory usage: 169.4+ MB\n"
     ]
    }
   ],
   "source": [
    "beer_reviews_df.info()"
   ]
  },
  {
   "cell_type": "code",
   "execution_count": 25,
   "metadata": {},
   "outputs": [],
   "source": [
    "beer_reviews_df.to_csv('cleaned_data.csv', index=False)\n",
    "# turned into csv to be copied into postgres table \n",
    "# next time: find a way to go straight from DF to postgres table "
   ]
  },
  {
   "cell_type": "markdown",
   "metadata": {},
   "source": [
    "***\n",
    "### Create table in data base for beer reviews (the cleaned data)\n",
    "- Take the newly cleaned data and place it on AWS:\n",
    "    - On local terminal:   \n",
    "        `scp cleaned_data.csv ubuntu@myaws:/home/ubuntu`  \n",
    "        `rm cleaned_data.csv`\n",
    "\n",
    "    - on AWS terminal:  \n",
    "        `mv cleaned_data.csv beerdata` \n",
    "        \n",
    "- Now that the csv file is on AWS copy the data to a datatable in the database \n"
   ]
  },
  {
   "cell_type": "code",
   "execution_count": 31,
   "metadata": {},
   "outputs": [],
   "source": [
    "cursor.execute('BEGIN;')\n",
    "\n",
    "query_build_table = \"\"\"\n",
    "        CREATE TABLE IF NOT EXISTS beer (\n",
    "        brewery_id double precision DEFAULT NULL,\n",
    "        brewery_name text DEFAULT NULL,\n",
    "        review_time double precision DEFAULT NULL,\n",
    "        review_overall double precision DEFAULT NULL,\n",
    "        review_aroma double precision DEFAULT NULL,\n",
    "        review_appearance double precision DEFAULT NULL,\n",
    "        review_profilename text DEFAULT NULL, \n",
    "        beer_style text DEFAULT NULL,\n",
    "        review_palate double precision DEFAULT NULL,\n",
    "        review_taste double precision DEFAULT NULL,\n",
    "        beer_name text DEFAULT NULL,\n",
    "        beer_beerid double precision DEFAULT NULL, \n",
    "        beer_type text DEFAULT NULL\n",
    "    );\n",
    "\"\"\""
   ]
  },
  {
   "cell_type": "code",
   "execution_count": 32,
   "metadata": {},
   "outputs": [],
   "source": [
    "cursor.execute(query_build_table)"
   ]
  },
  {
   "cell_type": "code",
   "execution_count": 33,
   "metadata": {},
   "outputs": [],
   "source": [
    "cursor.execute('commit;')"
   ]
  },
  {
   "cell_type": "code",
   "execution_count": 34,
   "metadata": {},
   "outputs": [],
   "source": [
    "cursor.execute('BEGIN;')"
   ]
  },
  {
   "cell_type": "code",
   "execution_count": 35,
   "metadata": {},
   "outputs": [],
   "source": [
    "query_copy = \"COPY beer FROM '/home/ubuntu/beerdata/cleaned_data.csv' DELIMITER ',' CSV HEADER;\""
   ]
  },
  {
   "cell_type": "code",
   "execution_count": 36,
   "metadata": {},
   "outputs": [],
   "source": [
    "cursor.execute(query_copy)"
   ]
  },
  {
   "cell_type": "code",
   "execution_count": 37,
   "metadata": {},
   "outputs": [],
   "source": [
    "cursor.execute('commit;')"
   ]
  },
  {
   "cell_type": "markdown",
   "metadata": {},
   "source": [
    "***\n",
    "### Getting averages \n",
    "- using the cursor methond, can play with the data in SQL\n",
    "- get users average rating for each beer types\n",
    "- get users average rating for each brewery \n",
    "- NOTE: this is done here in SQL, but also done slightly difference using pandas in the next notebook "
   ]
  },
  {
   "cell_type": "markdown",
   "metadata": {},
   "source": [
    "#### create a table for the users average reviews for each beer type:"
   ]
  },
  {
   "cell_type": "code",
   "execution_count": 38,
   "metadata": {},
   "outputs": [],
   "source": [
    "cursor.execute('BEGIN;')\n",
    "\n",
    "query_build_table = \"\"\"\n",
    "        CREATE TABLE IF NOT EXISTS user_types (\n",
    "        user_name text DEFAULT NULL, \n",
    "        beer_style text DEFAULT NULL,\n",
    "        review_count double precision DEFAULT NULL,\n",
    "        avg_review double precision DEFAULT NULL,\n",
    "        avg_apperance double precision DEFAULT NULL,\n",
    "        avg_palate double precision DEFAULT NULL,\n",
    "        avg_taste double precision DEFAULT NULL,\n",
    "        avg_aroma double precision DEFAULT NULL\n",
    "    );\n",
    "\"\"\""
   ]
  },
  {
   "cell_type": "code",
   "execution_count": 39,
   "metadata": {},
   "outputs": [],
   "source": [
    "cursor.execute(query_build_table)"
   ]
  },
  {
   "cell_type": "code",
   "execution_count": 40,
   "metadata": {},
   "outputs": [],
   "source": [
    "cursor.execute('commit;')"
   ]
  },
  {
   "cell_type": "code",
   "execution_count": 41,
   "metadata": {},
   "outputs": [],
   "source": [
    "cursor.execute('BEGIN;')\n",
    "\n",
    "query_types = \"\"\"\n",
    "    INSERT INTO user_types\n",
    "    SELECT review_profilename as user_name, beer_style, \n",
    "            COUNT(review_overall) as review_count,\n",
    "            AVG(review_overall) as avg_review,\n",
    "            AVG(review_appearance) as avg_apperance,\n",
    "            AVG(review_palate) as avg_palate,\n",
    "            AVG(review_taste) as avg_taste,\n",
    "            AVG(review_aroma) as avg_aroma\n",
    "    FROM beer\n",
    "    GROUP BY review_profilename, beer_style\n",
    "\"\"\""
   ]
  },
  {
   "cell_type": "code",
   "execution_count": 42,
   "metadata": {},
   "outputs": [],
   "source": [
    "cursor.execute(query_types)"
   ]
  },
  {
   "cell_type": "code",
   "execution_count": 43,
   "metadata": {},
   "outputs": [],
   "source": [
    "cursor.execute('commit;')"
   ]
  },
  {
   "cell_type": "markdown",
   "metadata": {},
   "source": [
    "#### create a table for the users average reviews for each brewery:"
   ]
  },
  {
   "cell_type": "code",
   "execution_count": 44,
   "metadata": {},
   "outputs": [],
   "source": [
    "query_build_table = \"\"\"\n",
    "        CREATE TABLE IF NOT EXISTS user_breweries (\n",
    "        user_name text DEFAULT NULL, \n",
    "        brewery_name text DEFAULT NULL,\n",
    "        review_count double precision DEFAULT NULL,\n",
    "        avg_review double precision DEFAULT NULL,\n",
    "        avg_apperance double precision DEFAULT NULL,\n",
    "        avg_palate double precision DEFAULT NULL,\n",
    "        avg_taste double precision DEFAULT NULL,\n",
    "        avg_aroma double precision DEFAULT NULL\n",
    "    );\n",
    "\"\"\""
   ]
  },
  {
   "cell_type": "code",
   "execution_count": 45,
   "metadata": {},
   "outputs": [],
   "source": [
    "cursor.execute(query_build_table)"
   ]
  },
  {
   "cell_type": "code",
   "execution_count": 46,
   "metadata": {},
   "outputs": [],
   "source": [
    "cursor.execute('commit;')"
   ]
  },
  {
   "cell_type": "code",
   "execution_count": 47,
   "metadata": {},
   "outputs": [],
   "source": [
    "# Since we have committed already we should start a transaction explicitly.\n",
    "cursor.execute('BEGIN;')\n",
    "\n",
    "query_brewery = \"\"\"\n",
    "    INSERT INTO user_breweries \n",
    "    SELECT review_profilename as user_name, brewery_name, \n",
    "            COUNT(review_overall) as review_count,\n",
    "            AVG(review_overall) as avg_review,\n",
    "            AVG(review_appearance) as avg_apperance,\n",
    "            AVG(review_palate) as avg_palate,\n",
    "            AVG(review_taste) as avg_taste,\n",
    "            AVG(review_aroma) as avg_aroma\n",
    "    FROM beer\n",
    "    GROUP BY review_profilename, brewery_name\n",
    "\"\"\""
   ]
  },
  {
   "cell_type": "code",
   "execution_count": 48,
   "metadata": {},
   "outputs": [],
   "source": [
    "cursor.execute(query_brewery)"
   ]
  },
  {
   "cell_type": "code",
   "execution_count": 49,
   "metadata": {},
   "outputs": [],
   "source": [
    "cursor.execute('commit;')"
   ]
  },
  {
   "cell_type": "markdown",
   "metadata": {},
   "source": [
    "*** \n",
    "User features to make:\n",
    "   - total number of reviews the user has done: user_total_review_count  \n",
    "   \n",
    "    *user-type features -*  \n",
    "   - number of reviews for each type by user: user_type_review_count\n",
    "   - ratio of reviews of type compared to total reviews: user_review_type_ratio \n",
    "   - number of types of beers user has reviewed: user_review_number_of_types  \n",
    "   - average overall rating for each beer type: user_avg_overall_rating_of_type\n",
    "   - average apperance rating for each beer type: user_avg_apperance_rating_of_type\n",
    "   - average aroma rating for each beer type: user_avg_aroma_rating_of_type\n",
    "   \n",
    "   *user-beer features -*\n",
    "   - number of reviews for each type by user: user_beer_review_count\n",
    "   - ratio of reviews of type compared to total reviews: user_review_beer_ratio \n",
    "   - number of types of beers user has reviewed: user_review_number_of_beers  \n",
    "   - average overall rating for each beer type: user_avg_overall_rating_of_beer \n",
    "   \n",
    "   *user-brewery features -*  \n",
    "   - number of breweries user has reviewed: user_review_number_of_breweries\n",
    "   - number of reviews for each brewery by user: user_brewery_review_count\n",
    "   - ratio of reviews of brewery compared to total: user_review_brewery_ratio\n",
    "   - average overall rating for each brewery: user_avg_overall_rating\n",
    "        \n",
    "\n",
    "\n",
    "Beer features to make:\n",
    "   - total number of reviews for each beer: beer_total_review_count\n",
    "   - average overall rating for each beer: beer_avg_rating\n",
    "    \n",
    " \n",
    " \n",
    "Beer type features to make:\n",
    "   - total number of reviews for each beer type: type_total_review_count\n",
    "   - average overall rating for each type: type_avg_rating \n",
    "\n",
    "\n",
    "Brewery features to make:\n",
    "   - total number of reviews for each brewery: brewery_total_review_count\n",
    "   - average overall rating for each brewery: brewery_avg_overall_rating "
   ]
  },
  {
   "cell_type": "code",
   "execution_count": null,
   "metadata": {},
   "outputs": [],
   "source": []
  }
 ],
 "metadata": {
  "kernelspec": {
   "display_name": "Python [conda env:metis] *",
   "language": "python",
   "name": "conda-env-metis-py"
  },
  "language_info": {
   "codemirror_mode": {
    "name": "ipython",
    "version": 3
   },
   "file_extension": ".py",
   "mimetype": "text/x-python",
   "name": "python",
   "nbconvert_exporter": "python",
   "pygments_lexer": "ipython3",
   "version": "3.7.4"
  }
 },
 "nbformat": 4,
 "nbformat_minor": 2
}
